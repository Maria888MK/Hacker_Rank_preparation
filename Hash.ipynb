{
 "cells": [
  {
   "cell_type": "code",
   "execution_count": 1,
   "id": "4e26f89a",
   "metadata": {},
   "outputs": [
    {
     "data": {
      "text/plain": [
       "42"
      ]
     },
     "execution_count": 1,
     "metadata": {},
     "output_type": "execute_result"
    }
   ],
   "source": [
    "hash(42)"
   ]
  },
  {
   "cell_type": "code",
   "execution_count": 2,
   "id": "1f6b25fd",
   "metadata": {},
   "outputs": [
    {
     "data": {
      "text/plain": [
       "42"
      ]
     },
     "execution_count": 2,
     "metadata": {},
     "output_type": "execute_result"
    }
   ],
   "source": [
    "hash(42.0)"
   ]
  },
  {
   "cell_type": "code",
   "execution_count": 3,
   "id": "303269d8",
   "metadata": {},
   "outputs": [
    {
     "data": {
      "text/plain": [
       "230584300921372714"
      ]
     },
     "execution_count": 3,
     "metadata": {},
     "output_type": "execute_result"
    }
   ],
   "source": [
    "hash(42.1)"
   ]
  },
  {
   "cell_type": "code",
   "execution_count": 4,
   "id": "e1f728c6",
   "metadata": {},
   "outputs": [
    {
     "data": {
      "text/plain": [
       "4121763387305715870"
      ]
     },
     "execution_count": 4,
     "metadata": {},
     "output_type": "execute_result"
    }
   ],
   "source": [
    "hash('42')"
   ]
  },
  {
   "cell_type": "code",
   "execution_count": 5,
   "id": "6d9c3d59",
   "metadata": {},
   "outputs": [
    {
     "data": {
      "text/plain": [
       "4121763387305715870"
      ]
     },
     "execution_count": 5,
     "metadata": {},
     "output_type": "execute_result"
    }
   ],
   "source": [
    "hash('4' +'2')"
   ]
  },
  {
   "cell_type": "code",
   "execution_count": null,
   "id": "51467f27",
   "metadata": {},
   "outputs": [],
   "source": [
    "hash"
   ]
  }
 ],
 "metadata": {
  "kernelspec": {
   "display_name": "Python 3 (ipykernel)",
   "language": "python",
   "name": "python3"
  },
  "language_info": {
   "codemirror_mode": {
    "name": "ipython",
    "version": 3
   },
   "file_extension": ".py",
   "mimetype": "text/x-python",
   "name": "python",
   "nbconvert_exporter": "python",
   "pygments_lexer": "ipython3",
   "version": "3.10.6"
  }
 },
 "nbformat": 4,
 "nbformat_minor": 5
}
